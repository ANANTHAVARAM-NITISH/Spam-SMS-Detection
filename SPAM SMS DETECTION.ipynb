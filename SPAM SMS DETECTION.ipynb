{
 "cells": [
  {
   "cell_type": "code",
   "execution_count": null,
   "id": "559cc25d",
   "metadata": {},
   "outputs": [
    {
     "name": "stdout",
     "output_type": "stream",
     "text": [
      "SPAM SMS DETECTION\n",
      "Bayes Accuracy: 98.21%\n",
      "SVM Accuracy: 97.76%\n",
      "Logistic Accuracy: 95.52%\n",
      "Best Model: Bayes (Accuracy: 98.21%)\n",
      "   label                                            message Prediction\n",
      "0      0  Go until jurong point, crazy.. Available only ...        HAM\n",
      "1      0                      Ok lar... Joking wif u oni...        HAM\n",
      "2      1  Free entry in 2 a wkly comp to win FA Cup fina...       SPAM\n",
      "3      0  U dun say so early hor... U c already then say...        HAM\n",
      "4      0  Nah I don't think he goes to usf, he lives aro...        HAM\n",
      "5      1  FreeMsg Hey there darling it's been 3 week's n...        HAM\n",
      "6      0  Even my brother is not like to speak with me. ...        HAM\n",
      "7      0  As per your request 'Melle Melle (Oru Minnamin...        HAM\n",
      "8      1  WINNER!! As a valued network customer you have...       SPAM\n",
      "9      1  Had your mobile 11 months or more? U R entitle...       SPAM\n"
     ]
    }
   ],
   "source": [
    "# TASK-4 SPAM SMS DETECTION\n",
    "import pandas as pd\n",
    "from sklearn.model_selection import train_test_split\n",
    "from sklearn.feature_extraction.text import TfidfVectorizer\n",
    "from sklearn.naive_bayes import MultinomialNB\n",
    "from sklearn.svm import SVC\n",
    "from sklearn.linear_model import LogisticRegression\n",
    "from sklearn.metrics import accuracy_score\n",
    "\n",
    "path = r\"C:\\Users\\nehaa\\Desktop\\int\\task4\\archive (3)\\spam.csv\"\n",
    "df = pd.read_csv(path, encoding=\"latin-1\")\n",
    "\n",
    "df = df.rename(columns={\"v1\": \"label\", \"v2\": \"message\"})\n",
    "df = df[[\"label\", \"message\"]]\n",
    "df['label'] = df['label'].map({'ham': 0, 'spam': 1})\n",
    "\n",
    "tf = TfidfVectorizer(stop_words=\"english\", max_features=3000)\n",
    "X = tf.fit_transform(df['message'])\n",
    "y = df['label']\n",
    "\n",
    "trainX, testX, trainY, testY = train_test_split(X, y, test_size=0.2, random_state=42)\n",
    "print(\"SPAM SMS DETECTION\")\n",
    "models = {\n",
    "    \"Bayes\": MultinomialNB(),\n",
    "    \"SVM\": SVC(kernel=\"linear\"),\n",
    "    \"Logistic\": LogisticRegression()\n",
    "}\n",
    "\n",
    "results = {}\n",
    "\n",
    "for name, model in models.items():\n",
    "    model.fit(trainX, trainY)\n",
    "    predictions = model.predict(testX)\n",
    "    acc = accuracy_score(testY, predictions)\n",
    "    results[name] = acc\n",
    "    print(f\"{name} Accuracy: {acc * 100:.2f}%\")\n",
    "\n",
    "best = max(results, key=results.get)\n",
    "best_model = models[best]\n",
    "\n",
    "df[\"Prediction\"] = best_model.predict(X)\n",
    "df[\"Prediction\"] = df[\"Prediction\"].map({0: \"HAM\", 1: \"SPAM\"})\n",
    "\n",
    "print(f\"Best Model: {best} (Accuracy: {results[best] * 100:.2f}%)\")\n",
    "print(df.head(10))"
   ]
  },
  {
   "cell_type": "code",
   "execution_count": null,
   "id": "cfb9de8c",
   "metadata": {},
   "outputs": [],
   "source": []
  },
  {
   "cell_type": "code",
   "execution_count": null,
   "id": "2cdd450f",
   "metadata": {},
   "outputs": [],
   "source": []
  },
  {
   "cell_type": "code",
   "execution_count": null,
   "id": "320e85af",
   "metadata": {},
   "outputs": [],
   "source": []
  },
  {
   "cell_type": "code",
   "execution_count": null,
   "id": "d6315e3b",
   "metadata": {},
   "outputs": [],
   "source": []
  }
 ],
 "metadata": {
  "kernelspec": {
   "display_name": "Python 3 (ipykernel)",
   "language": "python",
   "name": "python3"
  },
  "language_info": {
   "codemirror_mode": {
    "name": "ipython",
    "version": 3
   },
   "file_extension": ".py",
   "mimetype": "text/x-python",
   "name": "python",
   "nbconvert_exporter": "python",
   "pygments_lexer": "ipython3",
   "version": "3.11.5"
  }
 },
 "nbformat": 4,
 "nbformat_minor": 5
}
